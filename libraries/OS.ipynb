{
 "cells": [
  {
   "cell_type": "code",
   "execution_count": 1,
   "id": "3ccc4449",
   "metadata": {},
   "outputs": [],
   "source": [
    "import os"
   ]
  },
  {
   "cell_type": "code",
   "execution_count": 2,
   "id": "b1fc8088",
   "metadata": {},
   "outputs": [
    {
     "name": "stdout",
     "output_type": "stream",
     "text": [
      "Current working directory: C:\\Users\\rishi\\Python\\libraries\n"
     ]
    }
   ],
   "source": [
    "# Get the current working directory \n",
    "current_dir = os.getcwd() \n",
    "      \n",
    "# Print the current working \n",
    "# directory (CWD) \n",
    "print(\"Current working directory:\", current_dir) "
   ]
  },
  {
   "cell_type": "code",
   "execution_count": 4,
   "id": "3a159fc6",
   "metadata": {},
   "outputs": [],
   "source": [
    "#change the cwd\n",
    "os.chdir('D:')"
   ]
  },
  {
   "cell_type": "code",
   "execution_count": 5,
   "id": "495781e3",
   "metadata": {},
   "outputs": [
    {
     "data": {
      "text/plain": [
       "'C:\\\\Users\\\\rishi\\\\Python\\\\libraries'"
      ]
     },
     "execution_count": 5,
     "metadata": {},
     "output_type": "execute_result"
    }
   ],
   "source": [
    "current_dir"
   ]
  },
  {
   "cell_type": "code",
   "execution_count": 6,
   "id": "2311a460",
   "metadata": {},
   "outputs": [
    {
     "name": "stdout",
     "output_type": "stream",
     "text": [
      "['.ipynb_checkpoints', 'OS.ipynb']\n"
     ]
    }
   ],
   "source": [
    "# To know list of files in cwd\n",
    "file_list = os.listdir(current_dir)\n",
    "print(file_list)"
   ]
  },
  {
   "cell_type": "code",
   "execution_count": null,
   "id": "f9363908",
   "metadata": {},
   "outputs": [],
   "source": []
  }
 ],
 "metadata": {
  "kernelspec": {
   "display_name": "Python 3 (ipykernel)",
   "language": "python",
   "name": "python3"
  },
  "language_info": {
   "codemirror_mode": {
    "name": "ipython",
    "version": 3
   },
   "file_extension": ".py",
   "mimetype": "text/x-python",
   "name": "python",
   "nbconvert_exporter": "python",
   "pygments_lexer": "ipython3",
   "version": "3.9.13"
  }
 },
 "nbformat": 4,
 "nbformat_minor": 5
}

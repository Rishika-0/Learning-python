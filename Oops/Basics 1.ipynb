{
 "cells": [
  {
   "cell_type": "code",
   "execution_count": 3,
   "id": "7af27b3e",
   "metadata": {},
   "outputs": [],
   "source": [
    "def main():\n",
    "    name = get_name()\n",
    "    house = get_house()\n",
    "    print(f\"{name} from {house}\")  "
   ]
  },
  {
   "cell_type": "code",
   "execution_count": 4,
   "id": "dfc6b86e",
   "metadata": {},
   "outputs": [],
   "source": [
    "def get_name():\n",
    "    name = input(\"Name: \")\n",
    "    return name\n",
    "def get_house():\n",
    "    return input(\"House: \")"
   ]
  },
  {
   "cell_type": "code",
   "execution_count": 5,
   "id": "3e124e92",
   "metadata": {},
   "outputs": [
    {
     "name": "stdout",
     "output_type": "stream",
     "text": [
      "Name: Rishika Agarwal\n",
      "House: Bareilly\n",
      "Rishika Agarwal from Bareilly\n"
     ]
    }
   ],
   "source": [
    "main()"
   ]
  },
  {
   "cell_type": "code",
   "execution_count": 6,
   "id": "e9985707",
   "metadata": {},
   "outputs": [
    {
     "name": "stdout",
     "output_type": "stream",
     "text": [
      "Name: Rishika Agarwal\n",
      "House: Ghaziabad\n",
      "Rishika Agarwal from Ghaziabad\n"
     ]
    }
   ],
   "source": [
    "if __name__==\"__main__\":\n",
    "    main()"
   ]
  },
  {
   "cell_type": "code",
   "execution_count": 7,
   "id": "ba707ab3",
   "metadata": {},
   "outputs": [],
   "source": [
    "def main():\n",
    "    name, house = get_student()\n",
    "    print(f\"{name} from {house}\") "
   ]
  },
  {
   "cell_type": "code",
   "execution_count": 8,
   "id": "a23a0497",
   "metadata": {},
   "outputs": [],
   "source": [
    "def get_student():\n",
    "    name = input(\"Name: \")\n",
    "    house = input(\"House: \")\n",
    "    return name, house"
   ]
  },
  {
   "cell_type": "code",
   "execution_count": 9,
   "id": "799a11a8",
   "metadata": {},
   "outputs": [
    {
     "name": "stdout",
     "output_type": "stream",
     "text": [
      "Name: Rishika Agarwal\n",
      "House: Bareilly\n",
      "Rishika Agarwal from Bareilly\n"
     ]
    }
   ],
   "source": [
    "main()"
   ]
  },
  {
   "cell_type": "code",
   "execution_count": null,
   "id": "abb91d35",
   "metadata": {},
   "outputs": [],
   "source": []
  }
 ],
 "metadata": {
  "kernelspec": {
   "display_name": "Python 3 (ipykernel)",
   "language": "python",
   "name": "python3"
  },
  "language_info": {
   "codemirror_mode": {
    "name": "ipython",
    "version": 3
   },
   "file_extension": ".py",
   "mimetype": "text/x-python",
   "name": "python",
   "nbconvert_exporter": "python",
   "pygments_lexer": "ipython3",
   "version": "3.9.13"
  }
 },
 "nbformat": 4,
 "nbformat_minor": 5
}
